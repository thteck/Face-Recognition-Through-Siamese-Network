{
 "cells": [
  {
   "cell_type": "markdown",
   "id": "bfaa95a9",
   "metadata": {},
   "source": [
    "Import library"
   ]
  },
  {
   "cell_type": "code",
   "execution_count": 1,
   "id": "b4d67779",
   "metadata": {},
   "outputs": [],
   "source": [
    "import os\n",
    "import cv2\n",
    "import dlib\n",
    "import numpy as np"
   ]
  },
  {
   "cell_type": "markdown",
   "id": "21604f28",
   "metadata": {},
   "source": [
    "Predetermined variable"
   ]
  },
  {
   "cell_type": "code",
   "execution_count": 2,
   "id": "68f42f39",
   "metadata": {},
   "outputs": [],
   "source": [
    "# pathway to the dataset downloaded from kaggle\n",
    "imageDir = 'raw_Dataset'\n",
    "\n",
    "# determine the size to export image\n",
    "size = (224,224)\n",
    "\n",
    "# count number of processed images\n",
    "empty,count,multiple = 0,0,0"
   ]
  },
  {
   "cell_type": "markdown",
   "id": "34c221d0",
   "metadata": {},
   "source": [
    "Load the face detector"
   ]
  },
  {
   "cell_type": "code",
   "execution_count": 3,
   "id": "53195cd2",
   "metadata": {},
   "outputs": [],
   "source": [
    "detector = dlib.get_frontal_face_detector()"
   ]
  },
  {
   "cell_type": "markdown",
   "id": "3b043824",
   "metadata": {},
   "source": [
    "Iterate through the file, detect faces from image, extract face features and export it"
   ]
  },
  {
   "cell_type": "code",
   "execution_count": 4,
   "id": "80370791",
   "metadata": {},
   "outputs": [
    {
     "name": "stdout",
     "output_type": "stream",
     "text": [
      "No faces detected at            Angelina Jolie    004_f61e7d0c.jpg\n",
      "Mutiple faces are detected at   Angelina Jolie    006_9135205d.jpg\n",
      "Mutiple faces are detected at   Angelina Jolie    010_f99d79e3.jpg\n",
      "No faces detected at            Angelina Jolie    055_aaaf063c.jpg\n",
      "Mutiple faces are detected at   Angelina Jolie    076_1d914d5b.jpg\n",
      "Mutiple faces are detected at   Angelina Jolie    080_e998ab00.jpg\n",
      "No faces detected at            Angelina Jolie    090_da55509f.jpg\n",
      "No faces detected at            Brad Pitt    027_78f200c3.jpg\n",
      "No faces detected at            Brad Pitt    028_181cbb8a.jpg\n",
      "No faces detected at            Brad Pitt    054_9f01aefa.jpg\n",
      "No faces detected at            Brad Pitt    060_136e5ef5.jpg\n",
      "Mutiple faces are detected at   Brad Pitt    064_213e2850.jpg\n",
      "No faces detected at            Brad Pitt    067_571d88eb.jpg\n",
      "Mutiple faces are detected at   Brad Pitt    084_4876da64.jpg\n",
      "No faces detected at            Denzel Washington    006_2880115c.jpg\n",
      "Mutiple faces are detected at   Denzel Washington    015_72bb2861.jpg\n",
      "No faces detected at            Denzel Washington    059_3b848154.jpg\n",
      "No faces detected at            Denzel Washington    093_4027b1e2.jpg\n",
      "Mutiple faces are detected at   Hugh Jackman    044_1844df0f.jpg\n",
      "Mutiple faces are detected at   Hugh Jackman    064_12d52b76.jpg\n",
      "No faces detected at            Hugh Jackman    095_b464eda0.jpg\n",
      "No faces detected at            Johnny Depp    018_14e5366f.jpg\n",
      "No faces detected at            Johnny Depp    043_77e393de.jpg\n",
      "No faces detected at            Johnny Depp    053_5b42d9d9.jpg\n",
      "No faces detected at            Johnny Depp    091_c3ad83af.jpg\n",
      "No faces detected at            Kate Winslet    047_c6dd0c78.jpg\n",
      "No faces detected at            Kate Winslet    050_0c20b215.jpg\n",
      "No faces detected at            Kate Winslet    082_4bbff9c3.jpg\n",
      "Mutiple faces are detected at   Leonardo DiCaprio    073_42e32f65.jpg\n",
      "No faces detected at            Megan Fox    016_bd51d057.jpg\n",
      "No faces detected at            Megan Fox    023_55dd20e3.jpg\n",
      "No faces detected at            Natalie Portman    038_4930b73f.jpg\n",
      "No faces detected at            Natalie Portman    059_c13d7734.jpg\n",
      "No faces detected at            Natalie Portman    061_029fc37f.jpg\n",
      "No faces detected at            Natalie Portman    082_6883328f.jpg\n",
      "No faces detected at            Nicole Kidman    016_a669f24c.jpg\n",
      "No faces detected at            Nicole Kidman    040_dec66c8a.jpg\n",
      "No faces detected at            Nicole Kidman    076_a3e008c1.jpg\n",
      "Mutiple faces are detected at   Robert Downey Jr    023_51dce41c.jpg\n",
      "Mutiple faces are detected at   Robert Downey Jr    057_8572457a.jpg\n",
      "Mutiple faces are detected at   Robert Downey Jr    061_b36635a2.jpg\n",
      "No faces detected at            Robert Downey Jr    074_a86aab43.jpg\n",
      "No faces detected at            Robert Downey Jr    076_318ed434.jpg\n",
      "Mutiple faces are detected at   Sandra Bullock    023_7214d0b2.jpg\n",
      "No faces detected at            Sandra Bullock    026_e5342024.jpg\n",
      "No faces detected at            Sandra Bullock    032_f3773aa6.jpg\n",
      "Mutiple faces are detected at   Sandra Bullock    035_bc2e1105.jpg\n",
      "No faces detected at            Sandra Bullock    043_4f352240.jpg\n",
      "No faces detected at            Sandra Bullock    044_49497c96.jpg\n",
      "Mutiple faces are detected at   Sandra Bullock    071_45baaf8f.jpg\n",
      "No faces detected at            Sandra Bullock    078_d9a9ca25.jpg\n",
      "No faces detected at            Sandra Bullock    098_529825da.jpg\n",
      "No faces detected at            Sandra Bullock    100_e1433988.jpg\n",
      "No faces detected at            Scarlett Johansson    002_ea6e259d.jpg\n",
      "No faces detected at            Scarlett Johansson    029_75cdebc2.jpg\n",
      "No faces detected at            Scarlett Johansson    037_ec9df32c.jpg\n",
      "No faces detected at            Scarlett Johansson    041_9913ca04.jpg\n",
      "No faces detected at            Scarlett Johansson    050_c8461888.jpg\n",
      "No faces detected at            Scarlett Johansson    077_776d5e0f.jpg\n",
      "Mutiple faces are detected at   Scarlett Johansson    087_bb9186aa.jpg\n",
      "No faces detected at            Scarlett Johansson    102_97fca716.jpg\n",
      "No faces detected at            Scarlett Johansson    127_9894295d.jpg\n",
      "No faces detected at            Scarlett Johansson    128_40ed3346.jpg\n",
      "No faces detected at            Scarlett Johansson    137_29b565f9.jpg\n",
      "No faces detected at            Scarlett Johansson    142_5d78bc85.jpg\n",
      "No faces detected at            Scarlett Johansson    152_a5f9d1a6.jpg\n",
      "No faces detected at            Scarlett Johansson    182_56820995.jpg\n",
      "Mutiple faces are detected at   Scarlett Johansson    195_dc745cfd.jpg\n",
      "No faces detected at            Tom Cruise    033_d891acbd.jpg\n",
      "No faces detected at            Tom Cruise    062_d4b7903f.jpg\n",
      "No faces detected at            Tom Cruise    078_076c27b8.jpg\n",
      "No faces detected at            Tom Cruise    080_566ea9e9.jpg\n",
      "No faces detected at            Tom Hanks    022_df2ce089.jpg\n",
      "No faces detected at            Tom Hanks    059_c7c906d9.jpg\n",
      "No faces detected at            Tom Hanks    067_15f0e6bb.jpg\n",
      "No faces detected at            Tom Hanks    100_b712e7ca.jpg\n",
      "Mutiple faces are detected at   Will Smith    026_4f5bfb2c.jpg\n",
      "No faces detected at            Will Smith    036_8751d89b.jpg\n",
      "No faces detected at            Will Smith    055_f9cbb53e.jpg\n",
      "No faces detected at            Will Smith    063_46f560ca.jpg\n",
      "No faces detected at            Will Smith    065_5cb55293.jpg\n",
      "No faces detected at            Will Smith    075_65ffca63.jpg\n",
      "No faces detected at            Will Smith    083_a0692bc1.jpg\n",
      "No faces detected at            Will Smith    093_dc555290.jpg\n",
      "No faces detected at            Will Smith    099_d652e3b6.jpg\n"
     ]
    }
   ],
   "source": [
    "# iterate through each folder in the directory\n",
    "for root, _, files in os.walk(imageDir):\n",
    "    # iterate though each file in the folder\n",
    "    for file in files:\n",
    "        # label of each picture which is the name of folder\n",
    "        label = os.path.basename(root)\n",
    "        # joining folder path and file name to acccess each image\n",
    "        imagePath = os.path.join(root,file)\n",
    "        # avoid .ipynb_checkpoints file\n",
    "        if file.startswith('.'):\n",
    "            continue\n",
    "        # get pixel value of each image\n",
    "        img = cv2.imread(imagePath)\n",
    "        # convert image into grayscale images\n",
    "        gray_image = cv2.cvtColor(img, cv2.COLOR_BGR2GRAY)\n",
    "        # detech face from the image\n",
    "        faces = detector(gray_image)\n",
    "        \n",
    "        if len(faces) == 0:\n",
    "            print('No faces detected at           ' , root.split('\\\\')[-1] ,\"  \", file)\n",
    "            empty += 1\n",
    "            continue\n",
    "         \n",
    "        # iterate through the face detected\n",
    "        for face in faces:\n",
    "            # only 1 face should be detected\n",
    "            if len(faces) == 1:\n",
    "                # read the position of face\n",
    "                x, y, x1, y1 = face.left(), face.top(), face.right(), face.bottom()\n",
    "                x,y = abs(x),abs(y)\n",
    "                # store the position of face detected\n",
    "                face = img[y:y1, x:x1]\n",
    "                # resize the detected face into desire size\n",
    "                resize_face = cv2.resize(face,size)\n",
    "                \n",
    "                # create new folder for the processed image\n",
    "                newpath = 'preprocessed_Dataset/' + label + '/'\n",
    "                # new path does not exist\n",
    "                if not os.path.exists(newpath):\n",
    "                    # create new path\n",
    "                    os.makedirs(newpath)\n",
    "                # store preprocessed image into new path\n",
    "                cv2.imwrite(newpath + file,resize_face)\n",
    "                count += 1\n",
    "            # mutiple faces are detected hence skip this image\n",
    "            \n",
    "            else:\n",
    "                print(\"Mutiple faces are detected at   \" + root.split('\\\\')[-1] + \"    \" + file)\n",
    "                multiple += 1\n",
    "                break"
   ]
  },
  {
   "cell_type": "code",
   "execution_count": 5,
   "id": "1d0ef5bc",
   "metadata": {},
   "outputs": [
    {
     "name": "stdout",
     "output_type": "stream",
     "text": [
      "There are 66 faces not being detected\n",
      "There are 1715 faces being detected and saved\n",
      "There are 19 images detected multiple faces\n"
     ]
    }
   ],
   "source": [
    "print('There are' , empty , 'faces not being detected')\n",
    "print('There are' , count , 'faces being detected and saved')\n",
    "print('There are' , multiple , 'images detected multiple faces')"
   ]
  },
  {
   "cell_type": "code",
   "execution_count": null,
   "id": "533f5bc9",
   "metadata": {},
   "outputs": [],
   "source": []
  }
 ],
 "metadata": {
  "kernelspec": {
   "display_name": "Python 3 (ipykernel)",
   "language": "python",
   "name": "python3"
  },
  "language_info": {
   "codemirror_mode": {
    "name": "ipython",
    "version": 3
   },
   "file_extension": ".py",
   "mimetype": "text/x-python",
   "name": "python",
   "nbconvert_exporter": "python",
   "pygments_lexer": "ipython3",
   "version": "3.9.12"
  }
 },
 "nbformat": 4,
 "nbformat_minor": 5
}
